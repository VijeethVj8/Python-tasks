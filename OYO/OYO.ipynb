{
 "cells": [
  {
   "cell_type": "code",
   "execution_count": 67,
   "id": "7a507188-4b0e-4c4f-b005-5d093838efa3",
   "metadata": {},
   "outputs": [
    {
     "name": "stdout",
     "output_type": "stream",
     "text": [
      "       city booking_date  number_of_bookings\n",
      "0  New York   2024-02-24                  17\n",
      "  property_id booking_status\n",
      "0         P17      confirmed\n",
      "      city  room_price  number_of_nights\n",
      "0  Houston         147                 3\n"
     ]
    }
   ],
   "source": [
    "import pandas as pd\n",
    "\n",
    "booking_growth = pd.read_csv(\"/Users/vijeethvj8/Downloads/Elevateme/OYO/booking_growth.csv\")\n",
    "cancellations = pd.read_csv(\"/Users/vijeethvj8/Downloads/Elevateme/OYO/cancellations.csv\")\n",
    "hotel_booking = pd.read_csv(\"/Users/vijeethvj8/Downloads/Elevateme/OYO/hotel_bookings.csv\")\n",
    "\n",
    "print(booking_growth.head(1))\n",
    "print(cancellations.head(1))\n",
    "print(hotel_booking.head(1))"
   ]
  },
  {
   "cell_type": "code",
   "execution_count": 69,
   "id": "d15373a6-c6c9-4e8b-b388-a51d287bf499",
   "metadata": {},
   "outputs": [
    {
     "name": "stdout",
     "output_type": "stream",
     "text": [
      "city                  0\n",
      "booking_date          0\n",
      "number_of_bookings    0\n",
      "dtype: int64\n",
      "property_id       0\n",
      "booking_status    0\n",
      "dtype: int64\n",
      "city                0\n",
      "room_price          0\n",
      "number_of_nights    0\n",
      "dtype: int64\n"
     ]
    }
   ],
   "source": [
    "print(booking_growth.isnull().sum())\n",
    "print(cancellations.isnull().sum())\n",
    "print(hotel_booking.isnull().sum())"
   ]
  },
  {
   "cell_type": "code",
   "execution_count": 71,
   "id": "d193129e-7f3e-40e8-b71d-ed8bd1c3643e",
   "metadata": {},
   "outputs": [
    {
     "name": "stdout",
     "output_type": "stream",
     "text": [
      "      city  room_price  number_of_nights  revenue\n",
      "0  Houston         147                 3      441\n",
      "1    Miami         247                 7     1729\n",
      "2  Chicago         444                 2      888\n",
      "3    Miami         289                 2      578\n",
      "4    Miami         193                 7     1351\n"
     ]
    }
   ],
   "source": [
    "hotel_booking['revenue'] = hotel_booking['room_price'] * hotel_booking['number_of_nights']\n",
    "print(hotel_booking.head())"
   ]
  },
  {
   "cell_type": "code",
   "execution_count": 73,
   "id": "ad9d66fd-5b15-4a5c-a919-b5c659b5add2",
   "metadata": {},
   "outputs": [
    {
     "name": "stdout",
     "output_type": "stream",
     "text": [
      "city\n",
      "Chicago        51467\n",
      "Houston        62625\n",
      "Los Angeles    43513\n",
      "Miami          53663\n",
      "New York       56076\n",
      "Name: revenue, dtype: int64\n"
     ]
    }
   ],
   "source": [
    "revenue_per_city = hotel_booking.groupby('city')['revenue'].sum()\n",
    "print(revenue_per_city)"
   ]
  },
  {
   "cell_type": "code",
   "execution_count": 75,
   "id": "5a3c8fb2-7d10-48cf-be6d-984b01e85af8",
   "metadata": {},
   "outputs": [
    {
     "name": "stdout",
     "output_type": "stream",
     "text": [
      "City with highest month-over-month growth:\n",
      "City: Houston, Month: 2024-06, Growth: 227.0\n"
     ]
    }
   ],
   "source": [
    "# Ensure booking_date is datetime\n",
    "booking_growth['booking_date'] = pd.to_datetime(booking_growth['booking_date'])\n",
    "\n",
    "# Extract year-month\n",
    "booking_growth['year_month'] = booking_growth['booking_date'].dt.to_period('M')\n",
    "\n",
    "# Aggregate total bookings per city per month\n",
    "monthly_bookings = (\n",
    "    booking_growth\n",
    "    .groupby(['city', 'year_month'])['number_of_bookings']\n",
    "    .sum()\n",
    "    .reset_index()\n",
    ")\n",
    "\n",
    "# Sort for proper shift\n",
    "monthly_bookings = monthly_bookings.sort_values(['city', 'year_month'])\n",
    "\n",
    "# Calculate month-over-month growth\n",
    "monthly_bookings['prev_month_bookings'] = monthly_bookings.groupby('city')['number_of_bookings'].shift(1)\n",
    "monthly_bookings['growth'] = monthly_bookings['number_of_bookings'] - monthly_bookings['prev_month_bookings']\n",
    "\n",
    "# Drop first month (NaN growth)\n",
    "monthly_bookings = monthly_bookings.dropna()\n",
    "\n",
    "# Find the city with the highest MoM growth\n",
    "max_growth_row = monthly_bookings.loc[monthly_bookings['growth'].idxmax()]\n",
    "\n",
    "print(\"City with highest month-over-month growth:\")\n",
    "print(f\"City: {max_growth_row['city']}, Month: {max_growth_row['year_month']}, Growth: {max_growth_row['growth']}\")"
   ]
  },
  {
   "cell_type": "code",
   "execution_count": 77,
   "id": "4a64e5b6-7e4f-4e66-a68c-7bc68be50991",
   "metadata": {},
   "outputs": [
    {
     "name": "stdout",
     "output_type": "stream",
     "text": [
      "             total_bookings  cancelled_bookings  percentage\n",
      "property_id                                                \n",
      "P1                       14                   8       57.14\n",
      "P10                      19                   5       26.32\n",
      "P11                       7                   3       42.86\n",
      "P12                      12                   4       33.33\n",
      "P13                      16                   5       31.25\n",
      "P14                      13                   3       23.08\n",
      "P15                      11                   2       18.18\n",
      "P16                      12                   2       16.67\n",
      "P17                      14                   4       28.57\n",
      "P18                      17                   4       23.53\n",
      "P19                       9                   4       44.44\n",
      "P2                       20                   4       20.00\n",
      "P20                      18                   6       33.33\n",
      "P3                       21                   5       23.81\n",
      "P4                       20                   6       30.00\n",
      "P5                       15                   5       33.33\n",
      "P6                       15                   5       33.33\n",
      "P7                       17                   5       29.41\n",
      "P8                       13                   4       30.77\n",
      "P9                       17                   7       41.18\n"
     ]
    }
   ],
   "source": [
    "cancellation_rate = cancellations.groupby('property_id').agg(\n",
    "        total_bookings=('booking_status', 'count'),\n",
    "        cancelled_bookings=('booking_status', lambda x: (x == 'cancelled').sum())\n",
    "    )\n",
    "\n",
    "cancellation_rate['percentage'] = (cancellation_rate['cancelled_bookings']/cancellation_rate['total_bookings'] * 100).round(2)\n",
    "\n",
    "print(cancellation_rate)"
   ]
  },
  {
   "cell_type": "code",
   "execution_count": 111,
   "id": "012d1758-a6ad-4e20-9b8b-4cf177e692cb",
   "metadata": {},
   "outputs": [
    {
     "name": "stdout",
     "output_type": "stream",
     "text": [
      "city\n",
      "Houston        62625\n",
      "New York       56076\n",
      "Miami          53663\n",
      "Chicago        51467\n",
      "Los Angeles    43513\n",
      "Name: revenue, dtype: int64\n"
     ]
    },
    {
     "data": {
      "image/png": "[encoded data removed]",
      "text/plain": [
       "<Figure size 800x600 with 1 Axes>"
      ]
     },
     "metadata": {},
     "output_type": "display_data"
    }
   ],
   "source": [
    "import matplotlib.pyplot as plt\n",
    "\n",
    "top5_cities = revenue_per_city.sort_values(ascending=False).head(5)\n",
    "print(top5_cities)\n",
    "\n",
    "\n",
    "plt.figure(figsize=(8,6))\n",
    "plt.bar(top5_cities.index, top5_cities.values, color=\"skyblue\", edgecolor=\"black\")\n",
    "plt.title(\"Top 5 Cities by Total Revenue\")\n",
    "plt.xlabel(\"City\")\n",
    "plt.ylabel(\"Revenue\")\n",
    "plt.show()"
   ]
  },
  {
   "cell_type": "code",
   "execution_count": null,
   "id": "53f3dc63-271f-4476-ad8b-28494974ba36",
   "metadata": {},
   "outputs": [],
   "source": []
  }
 ],
 "metadata": {
  "kernelspec": {
   "display_name": "Python [conda env:base] *",
   "language": "python",
   "name": "conda-base-py"
  },
  "language_info": {
   "codemirror_mode": {
    "name": "ipython",
    "version": 3
   },
   "file_extension": ".py",
   "mimetype": "text/x-python",
   "name": "python",
   "nbconvert_exporter": "python",
   "pygments_lexer": "ipython3",
   "version": "3.11.11"
  }
 },
 "nbformat": 4,
 "nbformat_minor": 5
}
